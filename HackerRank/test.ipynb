{
 "cells": [
  {
   "cell_type": "code",
   "execution_count": 2,
   "metadata": {},
   "outputs": [
    {
     "name": "stdout",
     "output_type": "stream",
     "text": [
      "The tranformed values are:\n",
      "X' =  25 \n",
      "Y' =  30\n",
      "The tranformed values are:\n",
      "X' =  25 \n",
      "Y' =  36\n",
      "The tranformed values are:\n",
      "X' =  -5.16 \n",
      "Y' =  5.87\n",
      "The tranformed values are:\n",
      "X' =  14 \n",
      "Y' =  15\n"
     ]
    }
   ],
   "source": [
    "#Given x,y\n",
    "#Scaling\n",
    "# Input the scaling factors\n",
    "# create a matrix [Sx,0,0,Sy]\n",
    "# form a column matrix with values x,y\n",
    "# multiply both we get the final value\n",
    "#Rotation\n",
    "# input the angle theta\n",
    "# create the matrix [cos(theta) ,sin(theta), -sin(theta), cos(theta)]\n",
    "# form a column matrix with values x,y\n",
    "# multiply both we get the final value\n",
    "#Translation\n",
    "#add the translation factors tx,ty to x and y.\n",
    "\n",
    "import numpy as np\n",
    "\n",
    "def scaling(m):\n",
    "    Sx,Sy = map(int,input(\"Enter the Scaling factors: \").split())\n",
    "    mL = [Sx,0,0,Sy]\n",
    "    Sm = np.array(mL)\n",
    "    Sm = Sm.reshape(2,2)\n",
    "    transformed_matrix = np.dot(Sm,m)\n",
    "    print(\"The tranformed values are:\\nX' = \",transformed_matrix[0,0],\"\\nY' = \",transformed_matrix[1,0])\n",
    "\n",
    "def rotation(m):\n",
    "    theta = int(input(\"Enter the rotating angle: \"))\n",
    "    mL = [np.cos(theta) ,np.sin(theta), -np.sin(theta), np.cos(theta)]\n",
    "    Sm = np.array(mL)\n",
    "    Sm = Sm.reshape(2,2)\n",
    "    transformed_matrix = np.dot(Sm,m)\n",
    "    print(\"The tranformed values are:\\nX' = \",round(transformed_matrix[0,0],2), \"\\nY' = \",round(transformed_matrix[1,0],2))\n",
    "\n",
    "def translation(m):\n",
    "    Tx,Ty = map(int,input(\"Enter the translating factors: \").split())\n",
    "    mL = [Tx,Ty]\n",
    "    Sm = np.array(mL)\n",
    "    Sm = Sm.reshape(2,1)\n",
    "    transformed_matrix = np.add(Sm,m)\n",
    "    print(\"The tranformed values are:\\nX' = \",round(transformed_matrix[0,0],2), \"\\nY' = \",round(transformed_matrix[1,0],2))\n",
    "\n",
    "x,y = map(int,input(\"Enter the value of x and y: \").split())\n",
    "l = [x,y]\n",
    "m  = np.array(l)\n",
    "m = m.reshape(2,1)\n",
    "while True:\n",
    "    ch = int(input(\"Enter your choice\\n1 for Scaling\\n2 for Rotation\\n3 for Translation\\n4 to Quit.\"))\n",
    "    if ch ==1:\n",
    "        scaling(m)\n",
    "    elif ch ==2:\n",
    "        rotation(m)\n",
    "    elif ch ==3:\n",
    "        translation(m)\n",
    "    elif ch ==4:\n",
    "        break\n",
    "    else:\n",
    "        print(\"Enter a valid choice.\")\n"
   ]
  }
 ],
 "metadata": {
  "kernelspec": {
   "display_name": "Python 3",
   "language": "python",
   "name": "python3"
  },
  "language_info": {
   "codemirror_mode": {
    "name": "ipython",
    "version": 3
   },
   "file_extension": ".py",
   "mimetype": "text/x-python",
   "name": "python",
   "nbconvert_exporter": "python",
   "pygments_lexer": "ipython3",
   "version": "3.11.4"
  },
  "orig_nbformat": 4
 },
 "nbformat": 4,
 "nbformat_minor": 2
}
