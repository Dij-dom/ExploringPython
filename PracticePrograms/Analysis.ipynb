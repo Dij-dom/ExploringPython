{
 "cells": [
  {
   "cell_type": "markdown",
   "metadata": {},
   "source": [
    "1. Find the total sales made by the company Marico\n",
    "\n",
    "2. Find the highest and the least sales of the company along with its Quater\n",
    "\n",
    "3. Find out the quaters which are earning more than 130 crs.\n",
    "\n",
    "4. Find the difference in half yearly performance of the company\n",
    "\n",
    "5. If the total sales of Marico in the financial year 2022-23 was 180 billions find out the difference in this years performance.\n",
    "\n",
    "6. If the expected sales for the next year is 600 crores, find out the difference in this years and next years performance and create a new daaframe to store the details.\n",
    "\n",
    "7. Find out the average performance of the company for the financial year 22-23. Check out the deviation from the past year if the average sales is found to be 45 billion dollars."
   ]
  },
  {
   "cell_type": "code",
   "execution_count": 1,
   "metadata": {},
   "outputs": [
    {
     "data": {
      "text/html": [
       "<div>\n",
       "<style scoped>\n",
       "    .dataframe tbody tr th:only-of-type {\n",
       "        vertical-align: middle;\n",
       "    }\n",
       "\n",
       "    .dataframe tbody tr th {\n",
       "        vertical-align: top;\n",
       "    }\n",
       "\n",
       "    .dataframe thead th {\n",
       "        text-align: right;\n",
       "    }\n",
       "</style>\n",
       "<table border=\"1\" class=\"dataframe\">\n",
       "  <thead>\n",
       "    <tr style=\"text-align: right;\">\n",
       "      <th></th>\n",
       "      <th>Quaters</th>\n",
       "      <th>Sales(inCrores)</th>\n",
       "    </tr>\n",
       "  </thead>\n",
       "  <tbody>\n",
       "    <tr>\n",
       "      <th>0</th>\n",
       "      <td>Q1</td>\n",
       "      <td>100</td>\n",
       "    </tr>\n",
       "    <tr>\n",
       "      <th>1</th>\n",
       "      <td>Q2</td>\n",
       "      <td>120</td>\n",
       "    </tr>\n",
       "    <tr>\n",
       "      <th>2</th>\n",
       "      <td>Q3</td>\n",
       "      <td>90</td>\n",
       "    </tr>\n",
       "    <tr>\n",
       "      <th>3</th>\n",
       "      <td>Q4</td>\n",
       "      <td>150</td>\n",
       "    </tr>\n",
       "  </tbody>\n",
       "</table>\n",
       "</div>"
      ],
      "text/plain": [
       "  Quaters  Sales(inCrores)\n",
       "0      Q1              100\n",
       "1      Q2              120\n",
       "2      Q3               90\n",
       "3      Q4              150"
      ]
     },
     "execution_count": 1,
     "metadata": {},
     "output_type": "execute_result"
    }
   ],
   "source": [
    "import pandas as pd\n",
    "df = pd.DataFrame({'Quaters': ['Q1', 'Q2','Q3','Q4'], 'Sales(inCrores)': [100,120,90,150] })\n",
    "df"
   ]
  },
  {
   "cell_type": "code",
   "execution_count": 15,
   "metadata": {},
   "outputs": [
    {
     "name": "stdout",
     "output_type": "stream",
     "text": [
      "The total sales by the company is 460 Crores.\n",
      "The least sales of Marico is in and it's 90 Crores.\n"
     ]
    }
   ],
   "source": [
    "#Question_1\n",
    "# Find the total sales made by the company Marico\n",
    "print(\"The total sales by the company is\", df['Sales(inCrores)'].sum(), \"Crores.\")\n",
    "print(\"The least sales of Marico is in and it's\", df['Sales(inCrores)'].min(), \"Crores.\")"
   ]
  },
  {
   "cell_type": "code",
   "execution_count": 19,
   "metadata": {},
   "outputs": [
    {
     "name": "stdout",
     "output_type": "stream",
     "text": [
      "  Quaters  Sales(inCrores)\n",
      "2      Q3               90\n",
      "2    Q3\n",
      "Name: Quaters, dtype: object\n",
      "The least sales of Marico is in Q3 and its 90 Crores.\n",
      "The maximum sales of Marico is in Q4 and its 150 Crores.\n"
     ]
    }
   ],
   "source": [
    "#Question_2\n",
    "#Find the highest and the least sales of the company along with its Quater\n",
    "min_sales = df['Sales(inCrores)'].min()\n",
    "corr_qua = df[df['Sales(inCrores)'] == min_sales]\n",
    "print(corr_qua)\n",
    "corr_qua = df[df['Sales(inCrores)'] == min_sales]['Quaters']\n",
    "print(corr_qua)\n",
    "corr_qua = df[df['Sales(inCrores)'] == min_sales]['Quaters'].values[0]\n",
    "print(f\"The least sales of Marico is in {corr_qua} and its {min_sales} Crores.\")\n",
    "\n",
    "max_sales = df['Sales(inCrores)'].max()\n",
    "corr_qua = df[df['Sales(inCrores)'] == max_sales]['Quaters'].values[0]\n",
    "print(f\"The maximum sales of Marico is in {corr_qua} and its {max_sales} Crores.\")"
   ]
  },
  {
   "cell_type": "code",
   "execution_count": 17,
   "metadata": {},
   "outputs": [
    {
     "name": "stdout",
     "output_type": "stream",
     "text": [
      "The Quaters earning above 130 is Q4.\n"
     ]
    }
   ],
   "source": [
    "#Question3\n",
    "#Find out the quaters which are earning more than 130 crs.\n",
    "for i in df['Sales(inCrores)']:\n",
    "    if i > 130:\n",
    "        corr_qua = df[df['Sales(inCrores)'] ==i]['Quaters'].values[0]\n",
    "        print(f\"The Quaters earning above 130 is {corr_qua}.\")"
   ]
  },
  {
   "cell_type": "code",
   "execution_count": 5,
   "metadata": {},
   "outputs": [
    {
     "name": "stdout",
     "output_type": "stream",
     "text": [
      "Total Sales in the First Half is 220 crores. \n",
      "Total Sales in the Second Half is 240 crores.\n",
      "Total difference in the half yearly sales is 20 crores.\n",
      "The percentage change is given by 9.09\n"
     ]
    }
   ],
   "source": [
    "#Question4\n",
    "#Find the difference in half yearly performance of the company\n",
    "tot_FirstHalf_sales = df['Sales(inCrores)'].values[0] + df['Sales(inCrores)'].values[1]\n",
    "tot_SecHalf_sales = df['Sales(inCrores)'].values[2] + df['Sales(inCrores)'].values[3]\n",
    "diff_qua_sales = tot_SecHalf_sales - tot_FirstHalf_sales\n",
    "print(f\"Total Sales in the First Half is {tot_FirstHalf_sales} crores. \")\n",
    "print(f\"Total Sales in the Second Half is {tot_SecHalf_sales} crores.\")\n",
    "print(f\"Total difference in the half yearly sales is {diff_qua_sales} crores.\")\n",
    "print(f\"The percentage change is given by {round((diff_qua_sales/tot_FirstHalf_sales)*100,2)}\")"
   ]
  },
  {
   "cell_type": "code",
   "execution_count": 6,
   "metadata": {},
   "outputs": [
    {
     "name": "stdout",
     "output_type": "stream",
     "text": [
      "The difference between the sales of the financial year 22-23 and 23-24 is 17540\n"
     ]
    }
   ],
   "source": [
    "#10 lakhs = 1 million\n",
    "# 1 crores = 10 million\n",
    "# 100 crores = 1 billion\n",
    "#1 billion = 1000 million\n",
    "tot_sales22_23 = 18000\n",
    "tot_sales23_24 = tot_FirstHalf_sales + tot_SecHalf_sales\n",
    "print(f\"The difference between the sales of the financial year 22-23 and 23-24 is {tot_sales22_23 - tot_sales23_24}\")\n"
   ]
  },
  {
   "cell_type": "code",
   "execution_count": 7,
   "metadata": {},
   "outputs": [
    {
     "name": "stdout",
     "output_type": "stream",
     "text": [
      "The difference between the sales of the financial year 23-24 and 24-25 is 140 crores\n"
     ]
    }
   ],
   "source": [
    "exp_sales_2425 = 600\n",
    "diff_2324_2425 = exp_sales_2425 - tot_sales23_24\n",
    "print(f\"The difference between the sales of the financial year 23-24 and 24-25 is {diff_2324_2425} crores\")"
   ]
  },
  {
   "cell_type": "code",
   "execution_count": 8,
   "metadata": {},
   "outputs": [
    {
     "name": "stdout",
     "output_type": "stream",
     "text": [
      "The average sales of the financial year 22-23 is 115.0 crores.\n"
     ]
    }
   ],
   "source": [
    "s = 0\n",
    "for i in range(0,4):\n",
    "    s= s + df['Sales(inCrores)'][i]\n",
    "avg_sales_2223 = s/(len(df['Sales(inCrores)']))\n",
    "print(f\"The average sales of the financial year 22-23 is {avg_sales_2223} crores.\")\n",
    "#45 billion = 4500 crores.\n",
    "avg_sales_2122 = 4500 \n"
   ]
  },
  {
   "cell_type": "code",
   "execution_count": 9,
   "metadata": {},
   "outputs": [
    {
     "name": "stdout",
     "output_type": "stream",
     "text": [
      "The deviation/differnce in the average sales of the financial years 21-22 and 22-23 is 4385.0\n"
     ]
    }
   ],
   "source": [
    "dev_avg_sales = avg_sales_2122 - avg_sales_2223\n",
    "print(f\"The deviation/differnce in the average sales of the financial years 21-22 and 22-23 is {dev_avg_sales}\")"
   ]
  },
  {
   "cell_type": "markdown",
   "metadata": {},
   "source": []
  },
  {
   "cell_type": "markdown",
   "metadata": {},
   "source": []
  },
  {
   "cell_type": "markdown",
   "metadata": {},
   "source": []
  },
  {
   "cell_type": "code",
   "execution_count": 10,
   "metadata": {},
   "outputs": [
    {
     "name": "stdout",
     "output_type": "stream",
     "text": [
      "140714718389800\n",
      "140714718389832\n",
      "140714718389832\n"
     ]
    }
   ],
   "source": [
    "x = 25\n",
    "print(id(x))\n",
    "x = 26\n",
    "print(id(x))\n",
    "y = 26\n",
    "print(id(y))"
   ]
  },
  {
   "cell_type": "code",
   "execution_count": 11,
   "metadata": {},
   "outputs": [
    {
     "name": "stdout",
     "output_type": "stream",
     "text": [
      "2004295773760\n",
      "2004295921728\n",
      "2003904109888\n"
     ]
    }
   ],
   "source": [
    "x = [25, 26]\n",
    "print(id(x))\n",
    "x = [26,26]\n",
    "print(id(x))\n",
    "y = [25, 26]\n",
    "print(id(y))"
   ]
  },
  {
   "cell_type": "code",
   "execution_count": 12,
   "metadata": {},
   "outputs": [
    {
     "name": "stdout",
     "output_type": "stream",
     "text": [
      "8\n",
      "10\n"
     ]
    }
   ],
   "source": [
    "def update(x):\n",
    "    x=8\n",
    "    print(x)\n",
    "    print(a)\n",
    "a = 10\n",
    "update(a)"
   ]
  },
  {
   "cell_type": "code",
   "execution_count": null,
   "metadata": {},
   "outputs": [],
   "source": []
  }
 ],
 "metadata": {
  "kernelspec": {
   "display_name": "Python 3",
   "language": "python",
   "name": "python3"
  },
  "language_info": {
   "codemirror_mode": {
    "name": "ipython",
    "version": 3
   },
   "file_extension": ".py",
   "mimetype": "text/x-python",
   "name": "python",
   "nbconvert_exporter": "python",
   "pygments_lexer": "ipython3",
   "version": "3.11.4"
  },
  "orig_nbformat": 4
 },
 "nbformat": 4,
 "nbformat_minor": 2
}
