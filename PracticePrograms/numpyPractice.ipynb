{
 "cells": [
  {
   "cell_type": "markdown",
   "metadata": {},
   "source": [
    "Creating a Numpy Array"
   ]
  },
  {
   "cell_type": "code",
   "execution_count": 3,
   "metadata": {},
   "outputs": [
    {
     "name": "stdout",
     "output_type": "stream",
     "text": [
      "The numpy array is [ 0 11 22 33 44 55 66 77 88 99]\n"
     ]
    }
   ],
   "source": [
    "import numpy as np\n",
    "x = np.array([0,11,22,33,44,55,66,77,88,99])\n",
    "print(\"The numpy array is\",x)"
   ]
  },
  {
   "cell_type": "code",
   "execution_count": 4,
   "metadata": {},
   "outputs": [
    {
     "name": "stdout",
     "output_type": "stream",
     "text": [
      "The element at position 5 is:  44\n"
     ]
    }
   ],
   "source": [
    "#indexing\n",
    "p = int(input(\"Enter the element's position: \"))\n",
    "print(\"The element at position\", p, \"is: \",x[p-1])"
   ]
  },
  {
   "cell_type": "code",
   "execution_count": 6,
   "metadata": {},
   "outputs": [
    {
     "name": "stdout",
     "output_type": "stream",
     "text": [
      "The elements within the specified position is:  [11 22 33]\n"
     ]
    }
   ],
   "source": [
    "#Slicing\n",
    "l = int(input(\"Enter the lower position\"))\n",
    "h = int(input(\"Enter the upper position\"))\n",
    "d = int(input(\"Enter the step: \"))\n",
    "print(\"The elements within the specified position is: \", x[l-1:h-1:d] )"
   ]
  },
  {
   "cell_type": "code",
   "execution_count": 11,
   "metadata": {},
   "outputs": [
    {
     "name": "stdout",
     "output_type": "stream",
     "text": [
      "The sum of elements of x is:  77\n",
      "The sum of elements of x is:  -33\n",
      "The sum of elements of x is:  1210\n",
      "The sum of elements of x is:  0.4\n"
     ]
    }
   ],
   "source": [
    "#Mathematical operations using Numpy\n",
    "print(\"The sum of elements of x is: \",np.add(x[2],x[5]))\n",
    "print(\"The sum of elements of x is: \",np.subtract(x[2],x[5]))\n",
    "print(\"The sum of elements of x is: \",np.multiply(x[2],x[5]))\n",
    "print(\"The sum of elements of x is: \",np.divide(x[2],x[5]))"
   ]
  },
  {
   "cell_type": "code",
   "execution_count": null,
   "metadata": {},
   "outputs": [],
   "source": []
  }
 ],
 "metadata": {
  "kernelspec": {
   "display_name": "Python 3",
   "language": "python",
   "name": "python3"
  },
  "language_info": {
   "codemirror_mode": {
    "name": "ipython",
    "version": 3
   },
   "file_extension": ".py",
   "mimetype": "text/x-python",
   "name": "python",
   "nbconvert_exporter": "python",
   "pygments_lexer": "ipython3",
   "version": "3.11.4"
  },
  "orig_nbformat": 4
 },
 "nbformat": 4,
 "nbformat_minor": 2
}
