{
 "cells": [
  {
   "cell_type": "code",
   "execution_count": 3,
   "metadata": {},
   "outputs": [
    {
     "name": "stdout",
     "output_type": "stream",
     "text": [
      "[False False False  True False False False  True False False] [0 0]\n"
     ]
    }
   ],
   "source": [
    "import numpy as np\n",
    "# import array as arr\n",
    "\n",
    "#creating an array of numbers\n",
    "array_1 = np.array([1,2,3,0,5,6,7,0,9,10])\n",
    "\n",
    "#creating a mask\n",
    "boolean_mask = (array_1<= 0)\n",
    "\n",
    "#boolean indexing to filter the numbers less than 0\n",
    "result = array_1[boolean_mask]\n",
    "\n",
    "print(boolean_mask, result)"
   ]
  },
  {
   "cell_type": "code",
   "execution_count": 4,
   "metadata": {},
   "outputs": [
    {
     "ename": "NameError",
     "evalue": "name 'arr' is not defined",
     "output_type": "error",
     "traceback": [
      "\u001b[1;31m---------------------------------------------------------------------------\u001b[0m",
      "\u001b[1;31mNameError\u001b[0m                                 Traceback (most recent call last)",
      "\u001b[1;32mc:\\Users\\DIJIN\\Documents\\CHRIST\\Python\\ExploringPython\\HandsOnNotes\\Sept08.ipynb Cell 2\u001b[0m line \u001b[0;36m2\n\u001b[0;32m      <a href='vscode-notebook-cell:/c%3A/Users/DIJIN/Documents/CHRIST/Python/ExploringPython/HandsOnNotes/Sept08.ipynb#W1sZmlsZQ%3D%3D?line=0'>1</a>\u001b[0m \u001b[39mimport\u001b[39;00m \u001b[39marray\u001b[39;00m \u001b[39mas\u001b[39;00m \u001b[39marray_1\u001b[39;00m\n\u001b[1;32m----> <a href='vscode-notebook-cell:/c%3A/Users/DIJIN/Documents/CHRIST/Python/ExploringPython/HandsOnNotes/Sept08.ipynb#W1sZmlsZQ%3D%3D?line=1'>2</a>\u001b[0m numbers \u001b[39m=\u001b[39m arr\u001b[39m.\u001b[39marray(\u001b[39m'\u001b[39m\u001b[39mi\u001b[39m\u001b[39m'\u001b[39m,[\u001b[39m10\u001b[39m,\u001b[39m20\u001b[39m,\u001b[39m30\u001b[39m,\u001b[39m40\u001b[39m,\u001b[39m50\u001b[39m])\n\u001b[0;32m      <a href='vscode-notebook-cell:/c%3A/Users/DIJIN/Documents/CHRIST/Python/ExploringPython/HandsOnNotes/Sept08.ipynb#W1sZmlsZQ%3D%3D?line=3'>4</a>\u001b[0m \u001b[39mprint\u001b[39m(numbers\u001b[39m.\u001b[39mindex)\n",
      "\u001b[1;31mNameError\u001b[0m: name 'arr' is not defined"
     ]
    }
   ],
   "source": [
    "import array as array_1\n",
    "numbers = arr.array('i',[10,20,30,40,50])\n",
    "\n",
    "print(numbers.index)"
   ]
  },
  {
   "cell_type": "code",
   "execution_count": null,
   "metadata": {},
   "outputs": [],
   "source": [
    "import numpy as np\n",
    "a = array_1\n"
   ]
  },
  {
   "cell_type": "code",
   "execution_count": null,
   "metadata": {},
   "outputs": [
    {
     "name": "stdout",
     "output_type": "stream",
     "text": [
      "Sum =  [[10 10 10]\n",
      " [10 10 10]\n",
      " [ 3 13 10]]\n",
      "Substract =  [[-8 -6 -4]\n",
      " [-2  0  2]\n",
      " [ 1  3  2]]\n",
      "Product =  [[24 33 27]\n",
      " [72 87 72]\n",
      " [72 86 70]]\n",
      "Product1 =  [[ 9 16 21]\n",
      " [24 25 24]\n",
      " [ 2 40 24]]\n",
      "Product2 =  [[24 33 27]\n",
      " [72 87 72]\n",
      " [72 86 70]]\n",
      "Product3 =  [[-10  20 -10]\n",
      " [-10  20 -10]\n",
      " [  2  -2   2]]\n"
     ]
    }
   ],
   "source": [
    "a = np.array([[1,2,3],[4,5,6],[2,8,6]])\n",
    "b = np.array([[9,8,7],[6,5,4],[1,5,4]])\n",
    "\n",
    "print(\"Sum = \",np.add(a,b))\n",
    "print(\"Substract = \",np.subtract(a,b))\n",
    "print(\"Product = \", np.dot(a,b))\n",
    "print(\"Product1 = \",a*b)\n",
    "print(\"Product2 = \",np.matmul(a,b))\n",
    "print(\"Product3 = \", np.cross(a,b))"
   ]
  },
  {
   "cell_type": "code",
   "execution_count": null,
   "metadata": {},
   "outputs": [
    {
     "name": "stdout",
     "output_type": "stream",
     "text": [
      "Original Array:\n",
      "[[1 2 3]\n",
      " [4 5 6]]\n",
      "Transposed Array:\n",
      "[[1 4]\n",
      " [2 5]\n",
      " [3 6]]\n",
      "Original\n",
      "A = [[1, 2], [2, 3], [3, 4]]\n",
      "B = [[2, 2], [1, 1]]\n",
      "\n",
      "Standard Python Transpose\n",
      "A' = [[2, 3, 4], [2, 3, 4], [2, 3, 4]]\n",
      "B' = [[2, 1], [2, 1]]\n",
      "\n",
      "NumPy Transpose:\n",
      "A' = [[1 2 3]\n",
      " [2 3 4]]\n",
      "B' = [[2 1]\n",
      " [2 1]]\n",
      " inverse of B = [[-3 -3]\n",
      " [-2 -2]]\n"
     ]
    }
   ],
   "source": [
    "import numpy as np\n",
    "\n",
    "arr1 = np.array([[1, 2, 3], [4, 5, 6]])\n",
    "print(f'Original Array:\\n{arr1}')\n",
    "arr1_transpose = arr1.transpose()\n",
    "print(f'Transposed Array:\\n{arr1_transpose}')\n",
    "# Defining matrices\n",
    "A = [[1,2],[2,3],[3,4]]\n",
    "B = [[2,2],[1,1]]\n",
    "def transpose(mat):\n",
    "    mat_transpose = [] # initialise transposed matrix\n",
    "    for idx2 in range(len(mat[0])): # iterate through columns\n",
    "        new_row = []\n",
    "    for idx1 in range(len(mat)): # iterate through rows\n",
    "        new_row.append(mat[idx1][idx2])\n",
    "        mat_transpose.append(new_row)\n",
    "    return mat_transpose\n",
    "print(\"Original\")\n",
    "print(\"A =\", A)\n",
    "print(\"B =\", B)\n",
    "print()\n",
    "print(\"Standard Python Transpose\")\n",
    "print(\"A' =\", transpose(A))\n",
    "print(\"B' =\", transpose(B))\n",
    "print()\n",
    "A = np.array(A)\n",
    "B = np.array(B)\n",
    "print(\"NumPy Transpose:\")\n",
    "print(\"A' =\", A.T)\n",
    "print(\"B' =\", np.transpose(B))\n",
    "print(\" inverse of B =\", np.invert(B))"
   ]
  },
  {
   "cell_type": "code",
   "execution_count": 2,
   "metadata": {},
   "outputs": [
    {
     "name": "stdout",
     "output_type": "stream",
     "text": [
      "The tranformed values are:\n",
      "X' =  25 \n",
      "Y' =  36\n",
      "The tranformed values are:\n",
      "X' =  3.25 \n",
      "Y' =  7.1\n",
      "The tranformed values are:\n",
      "X' =  11 \n",
      "Y' =  15\n"
     ]
    }
   ],
   "source": [
    "#Given x,y\n",
    "#Scaling\n",
    "# Input the scaling factors\n",
    "# create a matrix [Sx,0,0,Sy]\n",
    "# form a column matrix with values x,y\n",
    "# multiply both we get the final value\n",
    "#Rotation\n",
    "# input the angle theta\n",
    "# create the matrix [cos(theta) ,sin(theta), -sin(theta), cos(theta)]\n",
    "# form a column matrix with values x,y\n",
    "# multiply both we get the final value\n",
    "#Translation\n",
    "#add the translation factors tx,ty to x and y.\n",
    "\n",
    "import numpy as np\n",
    "\n",
    "def scaling(m):\n",
    "    Sx,Sy = map(int,input(\"Enter the Scaling factors: \").split())\n",
    "    mL = [Sx,0,0,Sy]\n",
    "    Sm = np.array(mL)\n",
    "    Sm = Sm.reshape(2,2)\n",
    "    transformed_matrix = np.dot(Sm,m)\n",
    "    print(\"The tranformed values are:\\nX' = \",transformed_matrix[0,0],\"\\nY' = \",transformed_matrix[1,0])\n",
    "\n",
    "def rotation(m):\n",
    "    theta = int(input(\"Enter the rotating angle: \"))\n",
    "    mL = [np.cos(theta) ,np.sin(theta), -np.sin(theta), np.cos(theta)]\n",
    "    Sm = np.array(mL)\n",
    "    Sm = Sm.reshape(2,2)\n",
    "    transformed_matrix = np.dot(Sm,m)\n",
    "    print(\"The tranformed values are:\\nX' = \",round(transformed_matrix[0,0],2), \"\\nY' = \",round(transformed_matrix[1,0],2))\n",
    "\n",
    "def translation(m):\n",
    "    Tx,Ty = map(int,input(\"Enter the translating factors: \").split())\n",
    "    mL = [Tx,Ty]\n",
    "    Sm = np.array(mL)\n",
    "    Sm = Sm.reshape(2,1)\n",
    "    transformed_matrix = np.add(Sm,m)\n",
    "    print(\"The tranformed values are:\\nX' = \",round(transformed_matrix[0,0],2), \"\\nY' = \",round(transformed_matrix[1,0],2))\n",
    "\n",
    "x,y = map(int,input(\"Enter the value of x and y: \").split())\n",
    "l = [x,y]\n",
    "m  = np.array(l)\n",
    "m = m.reshape(2,1)\n",
    "while True:\n",
    "    ch = int(input(\"Enter your choice\\n1 for Scaling\\n2 for Rotation\\n3 for Translation\\n4 to Quit.\"))\n",
    "    if ch ==1:\n",
    "        scaling(m)\n",
    "    elif ch ==2:\n",
    "        rotation(m)\n",
    "    elif ch ==3:\n",
    "        translation(m)\n",
    "    elif ch ==4:\n",
    "        break\n",
    "    else:\n",
    "        print(\"Enter a valid choice.\")\n"
   ]
  }
 ],
 "metadata": {
  "kernelspec": {
   "display_name": "Python 3",
   "language": "python",
   "name": "python3"
  },
  "language_info": {
   "codemirror_mode": {
    "name": "ipython",
    "version": 3
   },
   "file_extension": ".py",
   "mimetype": "text/x-python",
   "name": "python",
   "nbconvert_exporter": "python",
   "pygments_lexer": "ipython3",
   "version": "3.11.4"
  },
  "orig_nbformat": 4
 },
 "nbformat": 4,
 "nbformat_minor": 2
}
