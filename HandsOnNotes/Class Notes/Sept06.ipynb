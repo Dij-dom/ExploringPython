{
 "cells": [
  {
   "cell_type": "code",
   "execution_count": 2,
   "metadata": {},
   "outputs": [
    {
     "name": "stdout",
     "output_type": "stream",
     "text": [
      "<class 'list'>\n"
     ]
    }
   ],
   "source": [
    " A = [1,2,3,4]\n",
    " C = [[1,5,6,8], A]\n",
    " print(type(C))"
   ]
  },
  {
   "cell_type": "code",
   "execution_count": 3,
   "metadata": {},
   "outputs": [
    {
     "name": "stdout",
     "output_type": "stream",
     "text": [
      "[1 2 3 4] <class 'numpy.ndarray'>\n",
      "Matrix C1 is \n",
      " [[1 5 6 8]\n",
      " [1 2 3 4]]\n"
     ]
    }
   ],
   "source": [
    "import numpy as np\n",
    "A1 =np.array(A)\n",
    "print(A1,type(A1))\n",
    "C1 = np.array(C)\n",
    "print(\"Matrix C1 is \\n\", C1)"
   ]
  },
  {
   "cell_type": "code",
   "execution_count": 4,
   "metadata": {},
   "outputs": [
    {
     "name": "stdout",
     "output_type": "stream",
     "text": [
      "(4,) 1\n"
     ]
    }
   ],
   "source": [
    "print(np.shape(A), np.ndim(A))"
   ]
  },
  {
   "cell_type": "code",
   "execution_count": 5,
   "metadata": {},
   "outputs": [
    {
     "name": "stdout",
     "output_type": "stream",
     "text": [
      "(2, 4) 2\n"
     ]
    }
   ],
   "source": [
    "print(np.shape(C), np.ndim(C))"
   ]
  },
  {
   "cell_type": "code",
   "execution_count": 6,
   "metadata": {},
   "outputs": [
    {
     "name": "stdout",
     "output_type": "stream",
     "text": [
      "D1 is  [[1, 2, 3], [2, 4, 6], [5, 10, 15]]\n",
      "9\n",
      "2\n"
     ]
    }
   ],
   "source": [
    "X = [1,2,3]\n",
    "Y = [2,4,6]\n",
    "Z = [5,10,15]\n",
    "D1 = [X, Y, Z]\n",
    "print(\"D1 is \", D1)\n",
    "print(np.size(D1))\n",
    "print(np.ndim(D1))\n",
    "\n"
   ]
  },
  {
   "cell_type": "code",
   "execution_count": 11,
   "metadata": {},
   "outputs": [
    {
     "name": "stdout",
     "output_type": "stream",
     "text": [
      "[[[[[[[1, 2, 3]]], [[[2, 4, 6]]], [[[5, 10, 15]]]]]]]\n",
      "7\n"
     ]
    }
   ],
   "source": [
    "E1 = [[[[[[X]],[[Y]],[[Z]]]]]]  # OR [[[1, 2, 3]], [[2, 4, 6]], [[5, 10, 15]]]\n",
    "print(E1)\n",
    "print(np.ndim(E1))"
   ]
  },
  {
   "cell_type": "code",
   "execution_count": null,
   "metadata": {},
   "outputs": [],
   "source": [
    "\n"
   ]
  }
 ],
 "metadata": {
  "kernelspec": {
   "display_name": "Python 3",
   "language": "python",
   "name": "python3"
  },
  "language_info": {
   "codemirror_mode": {
    "name": "ipython",
    "version": 3
   },
   "file_extension": ".py",
   "mimetype": "text/x-python",
   "name": "python",
   "nbconvert_exporter": "python",
   "pygments_lexer": "ipython3",
   "version": "3.11.4"
  },
  "orig_nbformat": 4
 },
 "nbformat": 4,
 "nbformat_minor": 2
}
