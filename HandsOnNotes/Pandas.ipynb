{
 "cells": [
  {
   "cell_type": "code",
   "execution_count": 6,
   "metadata": {},
   "outputs": [
    {
     "name": "stdout",
     "output_type": "stream",
     "text": [
      "<class 'list'>\n",
      "[['Srishti', 1, 'A'], ['Goutham', 2, 'B'], ['Sanskaar', 3, 'C'], ['Julian', 4, 'O', 95]]\n",
      "          0  1  2     3\n",
      "0   Srishti  1  A   NaN\n",
      "1   Goutham  2  B   NaN\n",
      "2  Sanskaar  3  C   NaN\n",
      "3    Julian  4  O  95.0\n"
     ]
    }
   ],
   "source": [
    "#Pandas: Panel Data System.\n",
    "#Collection of features which belong to a certin domain which is arranged in layers or groups.\n",
    "#Data Series: Single column data. (Time Series Analysis)\n",
    "#Data Frames: More than one column of data.\n",
    "#List 1D\n",
    "#Tuple Immutable, 1D\n",
    "#Set Not ordered\n",
    "\n",
    "import pandas as pd\n",
    "data = [['Srishti', 1, 'A'],['Goutham',2,'B'],['Sanskaar',3,'C'],['Julian',4,'O',95]] #list and tuple we can't use column headers\n",
    "print(type(data))\n",
    "print(data)\n",
    "df = pd.DataFrame(data)\n",
    "print(df)\n"
   ]
  },
  {
   "cell_type": "code",
   "execution_count": 9,
   "metadata": {},
   "outputs": [
    {
     "name": "stdout",
     "output_type": "stream",
     "text": [
      "<class 'tuple'>\n",
      "(('Srishti', 1, 'A'), ('Goutham', 2, 'B'), ('Sanskaar', 3, 'C'), ('Julian', 4, 'O', 95))\n",
      "          0  1  2     3\n",
      "0   Srishti  1  A   NaN\n",
      "1   Goutham  2  B   NaN\n",
      "2  Sanskaar  3  C   NaN\n",
      "3    Julian  4  O  95.0\n"
     ]
    }
   ],
   "source": [
    "data_t = (('Srishti', 1, 'A'),('Goutham',2,'B'),('Sanskaar',3,'C'),('Julian',4,'O',95))#list and tuple we can't use column headers\n",
    "print(type(data_t))\n",
    "print(data_t)\n",
    "df = pd.DataFrame(data_t)\n",
    "print(df)"
   ]
  },
  {
   "cell_type": "code",
   "execution_count": 16,
   "metadata": {},
   "outputs": [
    {
     "name": "stdout",
     "output_type": "stream",
     "text": [
      "<class 'dict'>\n",
      "{'Name': ['Srishti', 'Goutham', 'Sankar'], 'RegisterNumber': [1, 2, 3]}\n",
      "      Name  RegisterNumber\n",
      "0  Srishti               1\n",
      "1  Goutham               2\n",
      "2   Sankar               3\n"
     ]
    }
   ],
   "source": [
    "# Representation of a dictionary in a column format where keys are the column headers and values are the rows\n",
    "data_d = {'Name':['Srishti', 'Goutham', 'Sankar'], 'RegisterNumber': [1,2,3]}\n",
    "print(type(data_d))\n",
    "print(data_d)\n",
    "df_d = pd.DataFrame(data_d)\n",
    "print(df_d)\n"
   ]
  },
  {
   "cell_type": "code",
   "execution_count": 13,
   "metadata": {},
   "outputs": [
    {
     "name": "stdout",
     "output_type": "stream",
     "text": [
      "<class 'numpy.ndarray'>\n",
      "   0  1  2\n",
      "0  1  2  3\n",
      "1  4  5  6\n",
      "2  7  8  9\n"
     ]
    }
   ],
   "source": [
    "import numpy as np \n",
    "d = [[1,2,3],[4,5,6],[7,8,9]]\n",
    "d1 = np.array(d)\n",
    "print(type(d1))\n",
    "df = pd.DataFrame(d1)\n",
    "print(df)"
   ]
  },
  {
   "cell_type": "code",
   "execution_count": 18,
   "metadata": {},
   "outputs": [
    {
     "name": "stdout",
     "output_type": "stream",
     "text": [
      "      Name  RegisterNumber\n",
      "0  Srishti               1\n",
      "1  Goutham               2\n",
      "2   Sankar               3\n",
      "0    1\n",
      "1    2\n",
      "2    3\n",
      "Name: RegisterNumber, dtype: int64\n"
     ]
    }
   ],
   "source": [
    "print(df_d)\n",
    "print(df_d['RegisterNumber'])"
   ]
  },
  {
   "cell_type": "code",
   "execution_count": null,
   "metadata": {},
   "outputs": [],
   "source": []
  }
 ],
 "metadata": {
  "kernelspec": {
   "display_name": "Python 3",
   "language": "python",
   "name": "python3"
  },
  "language_info": {
   "codemirror_mode": {
    "name": "ipython",
    "version": 3
   },
   "file_extension": ".py",
   "mimetype": "text/x-python",
   "name": "python",
   "nbconvert_exporter": "python",
   "pygments_lexer": "ipython3",
   "version": "3.11.4"
  },
  "orig_nbformat": 4
 },
 "nbformat": 4,
 "nbformat_minor": 2
}
