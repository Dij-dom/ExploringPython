{
 "cells": [
  {
   "cell_type": "code",
   "execution_count": 3,
   "metadata": {},
   "outputs": [
    {
     "name": "stdout",
     "output_type": "stream",
     "text": [
      "[[[2, 5, 6, 4, 8, 7]], [[8, 56, 7, 4, 2, 3]]]\n"
     ]
    }
   ],
   "source": [
    "l1 = [2,5,6,4,8,7]\n",
    "l2 = [8,56,7,4,2,3]\n",
    "l3 = [[l1],[l2]]\n",
    "print(l3)"
   ]
  },
  {
   "cell_type": "code",
   "execution_count": 4,
   "metadata": {},
   "outputs": [
    {
     "name": "stdout",
     "output_type": "stream",
     "text": [
      "[[2, 5, 6, 4, 8, 7]]\n"
     ]
    }
   ],
   "source": [
    "print(l3[0])"
   ]
  },
  {
   "cell_type": "code",
   "execution_count": 5,
   "metadata": {},
   "outputs": [
    {
     "name": "stdout",
     "output_type": "stream",
     "text": [
      "<class 'list'>\n",
      "<class 'list'>\n"
     ]
    }
   ],
   "source": [
    "print(type(l1))\n",
    "print(type(l3))"
   ]
  },
  {
   "cell_type": "code",
   "execution_count": 6,
   "metadata": {},
   "outputs": [
    {
     "name": "stdout",
     "output_type": "stream",
     "text": [
      "<class 'list'>\n"
     ]
    }
   ],
   "source": [
    "l3 = [[[l1],[l2]]]\n",
    "print(type(l3))"
   ]
  },
  {
   "cell_type": "code",
   "execution_count": 7,
   "metadata": {},
   "outputs": [
    {
     "name": "stdout",
     "output_type": "stream",
     "text": [
      "[ 16 280  42  16  16  21] <class 'numpy.ndarray'>\n",
      "['a' 'z'] <class 'numpy.ndarray'>\n"
     ]
    }
   ],
   "source": [
    "from sympy import pprint\n",
    "import numpy as np\n",
    "x1 = np.array(l1)\n",
    "x2 = np.array(l2)\n",
    "res = x1*x2\n",
    "print(res,type(res))\n",
    "\n",
    "x3 = np.array(['a','z'])\n",
    "print(x3, type(x3))"
   ]
  },
  {
   "cell_type": "code",
   "execution_count": 11,
   "metadata": {},
   "outputs": [
    {
     "name": "stdout",
     "output_type": "stream",
     "text": [
      "[3 5 5 7]\n"
     ]
    }
   ],
   "source": [
    "x = np.array([1,2,3,4,5,7,5,5,7,5])\n",
    "print(x[2::2])"
   ]
  },
  {
   "cell_type": "code",
   "execution_count": 19,
   "metadata": {},
   "outputs": [
    {
     "name": "stdout",
     "output_type": "stream",
     "text": [
      "[7 4]\n",
      "[7 5]\n",
      "[7 6 5 4]\n"
     ]
    }
   ],
   "source": [
    "#negative slicing\n",
    "x = np.array([0,1,2,3,4,5,6,7,8,9])\n",
    "print(x[-3:3:-3])\n",
    "print(x[-3:3:-2])\n",
    "print(x[-3:3:-1])"
   ]
  },
  {
   "cell_type": "code",
   "execution_count": 21,
   "metadata": {},
   "outputs": [
    {
     "name": "stdout",
     "output_type": "stream",
     "text": [
      "[8 9]\n"
     ]
    }
   ],
   "source": [
    "print(x[-2:10])"
   ]
  }
 ],
 "metadata": {
  "kernelspec": {
   "display_name": "Python 3",
   "language": "python",
   "name": "python3"
  },
  "language_info": {
   "codemirror_mode": {
    "name": "ipython",
    "version": 3
   },
   "file_extension": ".py",
   "mimetype": "text/x-python",
   "name": "python",
   "nbconvert_exporter": "python",
   "pygments_lexer": "ipython3",
   "version": "3.11.4"
  },
  "orig_nbformat": 4
 },
 "nbformat": 4,
 "nbformat_minor": 2
}
