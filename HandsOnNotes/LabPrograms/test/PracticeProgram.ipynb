{
 "cells": [
  {
   "cell_type": "markdown",
   "metadata": {},
   "source": [
    "# Find the output for the following cases in dataframe creation\n",
    "1. List of dictionaries\n",
    "2. Dictionary of Lists.\n",
    "3. Dictionaries of Dictionaries.\n",
    "4. Data Series appended column wise.(Concatenation)"
   ]
  },
  {
   "cell_type": "markdown",
   "metadata": {},
   "source": []
  },
  {
   "cell_type": "code",
   "execution_count": 1,
   "metadata": {},
   "outputs": [],
   "source": [
    "import pandas as pd"
   ]
  },
  {
   "cell_type": "code",
   "execution_count": 2,
   "metadata": {},
   "outputs": [
    {
     "name": "stdout",
     "output_type": "stream",
     "text": [
      "<class 'list'>\n",
      "[{'Name': 'Srishti', 'RegisterNumber': 1}, {'Name': 'Goutham', 'RegisterNumber': 2}, {'Name': 'Daniel', 'RegisterNumber': 3}]\n",
      "      Name  RegisterNumber\n",
      "0  Srishti               1\n",
      "1  Goutham               2\n",
      "2   Daniel               3\n"
     ]
    }
   ],
   "source": [
    "dict_list = [{'Name':'Srishti', 'RegisterNumber': 1}, {'Name':'Goutham', 'RegisterNumber': 2},{'Name':'Daniel', 'RegisterNumber': 3}]\n",
    "print(type(dict_list))\n",
    "print(dict_list)\n",
    "df_d = pd.DataFrame(dict_list)\n",
    "print(df_d)"
   ]
  },
  {
   "cell_type": "code",
   "execution_count": 3,
   "metadata": {},
   "outputs": [
    {
     "name": "stdout",
     "output_type": "stream",
     "text": [
      "<class 'dict'>\n",
      "{'fruits': ['apple', 'banana', 'cherry'], 'colors': ['red', 'yellow', 'pink'], 'numbers': [1, 2, 3]}\n",
      "   fruits  colors  numbers\n",
      "0   apple     red        1\n",
      "1  banana  yellow        2\n",
      "2  cherry    pink        3\n"
     ]
    }
   ],
   "source": [
    "dictionary_of_lists = {\n",
    "    \"fruits\": [\"apple\", \"banana\", \"cherry\"],\n",
    "    \"colors\": [\"red\", \"yellow\", \"pink\"],\n",
    "    \"numbers\": [1, 2, 3]\n",
    "}\n",
    "print(type(dictionary_of_lists))\n",
    "print(dictionary_of_lists)\n",
    "df_d = pd.DataFrame(dictionary_of_lists)\n",
    "print(df_d)"
   ]
  },
  {
   "cell_type": "code",
   "execution_count": 4,
   "metadata": {},
   "outputs": [
    {
     "name": "stdout",
     "output_type": "stream",
     "text": [
      "<class 'dict'>\n",
      "       person1      person2  person3\n",
      "name     Alice          Bob  Charlie\n",
      "age         30           25       35\n",
      "city  New York  Los Angeles  Chicago\n"
     ]
    }
   ],
   "source": [
    "dictionary_of_dictionaries = {\n",
    "    \"person1\": {\n",
    "        \"name\": \"Alice\",\n",
    "        \"age\": 30,\n",
    "        \"city\": \"New York\"\n",
    "    },\n",
    "    \"person2\": {\n",
    "        \"name\": \"Bob\",\n",
    "        \"age\": 25,\n",
    "        \"city\": \"Los Angeles\"\n",
    "    },\n",
    "    \"person3\": {\n",
    "        \"name\": \"Charlie\",\n",
    "        \"age\": 35,\n",
    "        \"city\": \"Chicago\"\n",
    "    }\n",
    "}\n",
    "\n",
    "print(type(dictionary_of_dictionaries))\n",
    "# print(dictionary_of_dictionaries)\n",
    "df_d = pd.DataFrame(dictionary_of_dictionaries)\n",
    "print(df_d)\n"
   ]
  },
  {
   "cell_type": "code",
   "execution_count": 5,
   "metadata": {},
   "outputs": [
    {
     "name": "stdout",
     "output_type": "stream",
     "text": [
      "   Column1  Column2\n",
      "0        1        5\n",
      "1        2        6\n",
      "2        3        7\n",
      "3        4        8\n"
     ]
    }
   ],
   "source": [
    "import pandas as pd\n",
    "\n",
    "list1 = [1, 2, 3, 4]\n",
    "list2 = [5, 6, 7, 8]\n",
    "\n",
    "df = pd.DataFrame({'Column1': list1, 'Column2': list2})\n",
    "\n",
    "print(df)\n",
    "\n"
   ]
  },
  {
   "cell_type": "code",
   "execution_count": 6,
   "metadata": {},
   "outputs": [
    {
     "name": "stdout",
     "output_type": "stream",
     "text": [
      "     Name  Register Number\n",
      "0   Dijin                1\n",
      "1  Joseph                2\n"
     ]
    }
   ],
   "source": [
    "dict1 = {'Name': 'Dijin','Register Number': 1}\n",
    "dict2 = {'Name': 'Joseph','Register Number': 2}\n",
    "\n",
    "df = pd.DataFrame([dict1,dict2])\n",
    "\n",
    "print(df)"
   ]
  }
 ],
 "metadata": {
  "kernelspec": {
   "display_name": "Python 3",
   "language": "python",
   "name": "python3"
  },
  "language_info": {
   "codemirror_mode": {
    "name": "ipython",
    "version": 3
   },
   "file_extension": ".py",
   "mimetype": "text/x-python",
   "name": "python",
   "nbconvert_exporter": "python",
   "pygments_lexer": "ipython3",
   "version": "3.11.4"
  },
  "orig_nbformat": 4
 },
 "nbformat": 4,
 "nbformat_minor": 2
}
