{
 "cells": [
  {
   "cell_type": "code",
   "execution_count": 1,
   "metadata": {},
   "outputs": [
    {
     "name": "stdout",
     "output_type": "stream",
     "text": [
      "Name of the Patient: Emily Johnson\n",
      "Date of report: August 15, 2023\n",
      "Email id of the lab technician: labtech@example.com\n",
      "Name of the Doctor: Dr. Samantha Miller\n",
      "Age of the patient: 28\n",
      "Website if any: www.emilyJohnson.com\n",
      "\n",
      "Name of the Patient: Maria Martinez\n",
      "Date of report: September 3, 2023\n",
      "Email id of the lab technician: labtech2@example.com\n",
      "Name of the Doctor: Dr. Michael Williams\n",
      "Age of the patient: 35\n",
      "Website if any: www.MMartinez.org\n",
      "\n",
      "Name of the Patient: Jessica Lee\n",
      "Date of report: July 22, 2023\n",
      "Email id of the lab technician: labtech3@example.com\n",
      "Name of the Doctor: Dr. Emily Davis\n",
      "Age of the patient: 31\n",
      "Website if any: www.jlee.in\n",
      "\n"
     ]
    }
   ],
   "source": [
    "import re\n",
    "try:\n",
    "    with open('maternity.txt','r') as file:\n",
    "        content = file.read()\n",
    "    print(content)\n",
    "except FileNotFoundError:\n",
    "    print(\"The file 'maternity.txt' was not found.\")"
   ]
  },
  {
   "cell_type": "markdown",
   "metadata": {},
   "source": [
    " .  a wildcard that can match any character except a newline character.\n",
    " +: This plus sign is a quantifier in regular expressions that specifies that the preceding element (in this case, the dot) should occur one or more times.\n",
    " (.+) together means \"capture one or more occurrences of any character.\"\n"
   ]
  },
  {
   "cell_type": "code",
   "execution_count": 2,
   "metadata": {},
   "outputs": [
    {
     "name": "stdout",
     "output_type": "stream",
     "text": [
      "Emily Johnson\n",
      "Maria Martinez\n",
      "Jessica Lee\n"
     ]
    }
   ],
   "source": [
    "# Identify the Name of the Patients\n",
    "try:\n",
    "    patient_names = re.findall(r\"Name of the Patient: (.+)\", content)\n",
    "    for name in patient_names:\n",
    "        print(name)\n",
    "except NameError:\n",
    "    print(\"Can't find the name with respect to the pattern entered\")"
   ]
  },
  {
   "cell_type": "code",
   "execution_count": 3,
   "metadata": {},
   "outputs": [
    {
     "name": "stdout",
     "output_type": "stream",
     "text": [
      "August 15, 2023\n",
      "September 3, 2023\n",
      "July 22, 2023\n"
     ]
    }
   ],
   "source": [
    "# Identify the Date of report\n",
    "report_dates = re.findall(r\"Date of report: (.+)\", content)\n",
    "for date in report_dates:\n",
    "    print(date)"
   ]
  },
  {
   "cell_type": "markdown",
   "metadata": {},
   "source": [
    "\\S: This is a character class that matches any non-whitespace character. It is the opposite of the \\s character class, which matches whitespace characters (spaces, tabs, newlines, etc.).\n",
    "\n"
   ]
  },
  {
   "cell_type": "code",
   "execution_count": 4,
   "metadata": {},
   "outputs": [
    {
     "name": "stdout",
     "output_type": "stream",
     "text": [
      "labtech@example.com\n",
      "labtech2@example.com\n",
      "labtech3@example.com\n"
     ]
    }
   ],
   "source": [
    "# Email id of the lab technician\n",
    "lab_technician_emails = re.findall(r\"Email id of the lab technician: (\\S+)\", content)\n",
    "for email in lab_technician_emails:\n",
    "    print(email)"
   ]
  },
  {
   "cell_type": "markdown",
   "metadata": {},
   "source": [
    "(Dr\\. .+) is to find the word Dr. exactly and also consider the words after it."
   ]
  },
  {
   "cell_type": "code",
   "execution_count": 5,
   "metadata": {},
   "outputs": [
    {
     "name": "stdout",
     "output_type": "stream",
     "text": [
      "Dr. Samantha Miller\n",
      "Dr. Michael Williams\n",
      "Dr. Emily Davis\n"
     ]
    }
   ],
   "source": [
    "    # Name of the Doctor\n",
    "    doctor_names = re.findall(r\"Name of the Doctor: (Dr\\. .+)\", content)\n",
    "    for doctor in doctor_names:\n",
    "        print(doctor)"
   ]
  },
  {
   "cell_type": "code",
   "execution_count": 6,
   "metadata": {},
   "outputs": [
    {
     "name": "stdout",
     "output_type": "stream",
     "text": [
      "The age of the patients are:\n",
      "28\n",
      "35\n",
      "31\n"
     ]
    }
   ],
   "source": [
    "class NoPatientAgesFoundException(Exception):\n",
    "    pass\n",
    "\n",
    "try:\n",
    "    patient_ages = re.findall(r\"Age of the patient: (\\d+)\", content)\n",
    "    if not patient_ages:\n",
    "        raise NoPatientAgesFoundException(\"No patient ages found in the content.\")\n",
    "    \n",
    "    print(\"The age of the patients are:\")\n",
    "    for age in patient_ages:\n",
    "        print(age)\n",
    "except NoPatientAgesFoundException as e:\n",
    "    print(e)"
   ]
  },
  {
   "cell_type": "code",
   "execution_count": 7,
   "metadata": {},
   "outputs": [
    {
     "name": "stdout",
     "output_type": "stream",
     "text": [
      "www.emilyJohnson.com\n",
      "www.MMartinez.org\n",
      "www.jlee.in\n"
     ]
    }
   ],
   "source": [
    "websites = re.findall(r\"Website if any: (www\\.\\S+)?\", content) # add all the white space chatracter after this\n",
    "for website in websites:\n",
    "    print(website)"
   ]
  },
  {
   "cell_type": "code",
   "execution_count": 8,
   "metadata": {},
   "outputs": [
    {
     "name": "stdout",
     "output_type": "stream",
     "text": [
      "Name of the Patient: Emily Johnson\n",
      "Date of report: August 15, 2023\n",
      "Email id of the lab technician: labtech@example.com\n",
      "Name of the Doctor: Dr. Samantha Miller\n",
      "Age of the patient: 28\n",
      "Website if any: www.emilyJohnson.in\n",
      "\n",
      "Name of the Patient: Maria Martinez\n",
      "Date of report: September 3, 2023\n",
      "Email id of the lab technician: labtech2@example.com\n",
      "Name of the Doctor: Dr. Michael Williams\n",
      "Age of the patient: 35\n",
      "Website if any: www.MMartinez.org\n",
      "\n",
      "Name of the Patient: Jessica Lee\n",
      "Date of report: July 22, 2023\n",
      "Email id of the lab technician: labtech3@example.com\n",
      "Name of the Doctor: Dr. Emily Davis\n",
      "Age of the patient: 31\n",
      "Website if any: www.jlee.in\n",
      "\n"
     ]
    }
   ],
   "source": [
    "updated_data = re.sub(r\"(www\\.\\S+)\\.com\", r\"\\1.in\", content) #\\1: This is a special reference to the first capturing group (the part in parentheses) in the original pattern. In this case, it refers to the captured website URL without the \".com\" part. and add .in\n",
    "print(updated_data)"
   ]
  },
  {
   "cell_type": "code",
   "execution_count": 2,
   "metadata": {},
   "outputs": [
    {
     "name": "stdout",
     "output_type": "stream",
     "text": [
      "Welcome to Women and Child Development Department Health Record Automation\n",
      "Name of the Patient: Emily Johnson\n",
      "Date of report: August 15, 2023\n",
      "Email id of the lab technician: labtech@example.com\n",
      "Name of the Doctor: Dr. Samantha Miller\n",
      "Age of the patient: 28\n",
      "Website if any: www.emilyJohnson.com\n",
      "\n",
      "Name of the Patient: Maria Martinez\n",
      "Date of report: September 3, 2023\n",
      "Email id of the lab technician: labtech2@example.com\n",
      "Name of the Doctor: Dr. Michael Williams\n",
      "Age of the patient: 35\n",
      "Website if any: www.MMartinez.org\n",
      "\n",
      "Name of the Patient: Jessica Lee\n",
      "Date of report: July 22, 2023\n",
      "Email id of the lab technician: labtech3@example.com\n",
      "Name of the Doctor: Dr. Emily Davis\n",
      "Age of the patient: 31\n",
      "Website if any: www.jlee.in\n",
      "\n",
      "Enter 1 to identify the Name of the Patient\n",
      "Enter 2 to identify the date of the report\n",
      " Enter 3 to identify the Email id of the technician\n",
      "Enter 4 to identify the Name of the Doctor\n",
      "Enter 5 to identify the Age of the Patient\n",
      "Enter 6 to identify the Age of the patient\n",
      "Enter 7 to identify Website if any\n",
      "Enter 8 to identify Replace the domain from .com to .in\n",
      "Emily Johnson\n",
      "Maria Martinez\n",
      "Jessica Lee\n",
      "Enter 1 to identify the Name of the Patient\n",
      "Enter 2 to identify the date of the report\n",
      " Enter 3 to identify the Email id of the technician\n",
      "Enter 4 to identify the Name of the Doctor\n",
      "Enter 5 to identify the Age of the Patient\n",
      "Enter 6 to identify the Age of the patient\n",
      "Enter 7 to identify Website if any\n",
      "Enter 8 to identify Replace the domain from .com to .in\n",
      "August 15, 2023\n",
      "September 3, 2023\n",
      "July 22, 2023\n",
      "Enter 1 to identify the Name of the Patient\n",
      "Enter 2 to identify the date of the report\n",
      " Enter 3 to identify the Email id of the technician\n",
      "Enter 4 to identify the Name of the Doctor\n",
      "Enter 5 to identify the Age of the Patient\n",
      "Enter 6 to identify the Age of the patient\n",
      "Enter 7 to identify Website if any\n",
      "Enter 8 to identify Replace the domain from .com to .in\n",
      "labtech@example.com\n",
      "labtech2@example.com\n",
      "labtech3@example.com\n",
      "Enter 1 to identify the Name of the Patient\n",
      "Enter 2 to identify the date of the report\n",
      " Enter 3 to identify the Email id of the technician\n",
      "Enter 4 to identify the Name of the Doctor\n",
      "Enter 5 to identify the Age of the Patient\n",
      "Enter 6 to identify the Age of the patient\n",
      "Enter 7 to identify Website if any\n",
      "Enter 8 to identify Replace the domain from .com to .in\n",
      "Dr. Samantha Miller\n",
      "Dr. Michael Williams\n",
      "Dr. Emily Davis\n",
      "Enter 1 to identify the Name of the Patient\n",
      "Enter 2 to identify the date of the report\n",
      " Enter 3 to identify the Email id of the technician\n",
      "Enter 4 to identify the Name of the Doctor\n",
      "Enter 5 to identify the Age of the Patient\n",
      "Enter 6 to identify the Age of the patient\n",
      "Enter 7 to identify Website if any\n",
      "Enter 8 to identify Replace the domain from .com to .in\n",
      "The age of the patients are:\n",
      "28\n",
      "35\n",
      "31\n",
      "Enter 1 to identify the Name of the Patient\n",
      "Enter 2 to identify the date of the report\n",
      " Enter 3 to identify the Email id of the technician\n",
      "Enter 4 to identify the Name of the Doctor\n",
      "Enter 5 to identify the Age of the Patient\n",
      "Enter 6 to identify the Age of the patient\n",
      "Enter 7 to identify Website if any\n",
      "Enter 8 to identify Replace the domain from .com to .in\n",
      "www.emilyJohnson.com\n",
      "www.MMartinez.org\n",
      "www.jlee.in\n",
      "Enter 1 to identify the Name of the Patient\n",
      "Enter 2 to identify the date of the report\n",
      " Enter 3 to identify the Email id of the technician\n",
      "Enter 4 to identify the Name of the Doctor\n",
      "Enter 5 to identify the Age of the Patient\n",
      "Enter 6 to identify the Age of the patient\n",
      "Enter 7 to identify Website if any\n",
      "Enter 8 to identify Replace the domain from .com to .in\n",
      "Name of the Patient: Emily Johnson\n",
      "Date of report: August 15, 2023\n",
      "Email id of the lab technician: labtech@example.com\n",
      "Name of the Doctor: Dr. Samantha Miller\n",
      "Age of the patient: 28\n",
      "Website if any: www.emilyJohnson.in\n",
      "\n",
      "Name of the Patient: Maria Martinez\n",
      "Date of report: September 3, 2023\n",
      "Email id of the lab technician: labtech2@example.com\n",
      "Name of the Doctor: Dr. Michael Williams\n",
      "Age of the patient: 35\n",
      "Website if any: www.MMartinez.org\n",
      "\n",
      "Name of the Patient: Jessica Lee\n",
      "Date of report: July 22, 2023\n",
      "Email id of the lab technician: labtech3@example.com\n",
      "Name of the Doctor: Dr. Emily Davis\n",
      "Age of the patient: 31\n",
      "Website if any: www.jlee.in\n",
      "\n",
      "Enter 1 to identify the Name of the Patient\n",
      "Enter 2 to identify the date of the report\n",
      " Enter 3 to identify the Email id of the technician\n",
      "Enter 4 to identify the Name of the Doctor\n",
      "Enter 5 to identify the Age of the Patient\n",
      "Enter 6 to identify the Age of the patient\n",
      "Enter 7 to identify Website if any\n",
      "Enter 8 to identify Replace the domain from .com to .in\n",
      "Enter a valid input\n",
      "Enter 1 to identify the Name of the Patient\n",
      "Enter 2 to identify the date of the report\n",
      " Enter 3 to identify the Email id of the technician\n",
      "Enter 4 to identify the Name of the Doctor\n",
      "Enter 5 to identify the Age of the Patient\n",
      "Enter 6 to identify the Age of the patient\n",
      "Enter 7 to identify Website if any\n",
      "Enter 8 to identify Replace the domain from .com to .in\n",
      "Enter a valid input\n"
     ]
    },
    {
     "ename": "ValueError",
     "evalue": "invalid literal for int() with base 10: ''",
     "output_type": "error",
     "traceback": [
      "\u001b[1;31m---------------------------------------------------------------------------\u001b[0m",
      "\u001b[1;31mValueError\u001b[0m                                Traceback (most recent call last)",
      "Cell \u001b[1;32mIn[2], line 56\u001b[0m\n\u001b[0;32m     54\u001b[0m \u001b[39mexcept\u001b[39;00m \u001b[39mFileNotFoundError\u001b[39;00m:\n\u001b[0;32m     55\u001b[0m     \u001b[39mprint\u001b[39m(\u001b[39m\"\u001b[39m\u001b[39mThe file \u001b[39m\u001b[39m'\u001b[39m\u001b[39mmaternity.txt\u001b[39m\u001b[39m'\u001b[39m\u001b[39m was not found.\u001b[39m\u001b[39m\"\u001b[39m)\n\u001b[1;32m---> 56\u001b[0m data \u001b[39m=\u001b[39m Automate(content)\n",
      "Cell \u001b[1;32mIn[2], line 7\u001b[0m, in \u001b[0;36mAutomate.__init__\u001b[1;34m(self, content)\u001b[0m\n\u001b[0;32m      5\u001b[0m \u001b[39mdef\u001b[39;00m \u001b[39m__init__\u001b[39m(\u001b[39mself\u001b[39m, content):\n\u001b[0;32m      6\u001b[0m     \u001b[39mwhile\u001b[39;00m \u001b[39mTrue\u001b[39;00m:\n\u001b[1;32m----> 7\u001b[0m         ch \u001b[39m=\u001b[39m \u001b[39mint\u001b[39;49m(\u001b[39minput\u001b[39;49m(\u001b[39m\"\u001b[39;49m\u001b[39mEnter the choice according to the condition below.\u001b[39;49m\u001b[39m\\n\u001b[39;49;00m\u001b[39m\"\u001b[39;49m))\n\u001b[0;32m      8\u001b[0m         \u001b[39mprint\u001b[39m(\u001b[39m\"\u001b[39m\u001b[39mEnter 1 to identify the Name of the Patient\u001b[39m\u001b[39m\\n\u001b[39;00m\u001b[39mEnter 2 to identify the date of the report\u001b[39m\u001b[39m\\n\u001b[39;00m\u001b[39m Enter 3 to identify the Email id of the technician\u001b[39m\u001b[39m\\n\u001b[39;00m\u001b[39mEnter 4 to identify the Name of the Doctor\u001b[39m\u001b[39m\\n\u001b[39;00m\u001b[39mEnter 5 to identify the Age of the Patient\u001b[39m\u001b[39m\\n\u001b[39;00m\u001b[39mEnter 6 to identify the Age of the patient\u001b[39m\u001b[39m\\n\u001b[39;00m\u001b[39mEnter 7 to identify Website if any\u001b[39m\u001b[39m\\n\u001b[39;00m\u001b[39mEnter 8 to identify Replace the domain from .com to .in\u001b[39m\u001b[39m\"\u001b[39m)\n\u001b[0;32m      9\u001b[0m         \u001b[39mif\u001b[39;00m ch \u001b[39m==\u001b[39m\u001b[39m1\u001b[39m:\n",
      "\u001b[1;31mValueError\u001b[0m: invalid literal for int() with base 10: ''"
     ]
    }
   ],
   "source": [
    "import re\n",
    "class NoPatientAgesFoundException(Exception):\n",
    "    pass\n",
    "class Automate:\n",
    "    def __init__(self, content):\n",
    "        while True:\n",
    "            ch = int(input(\"Enter the choice according to the condition below.\\n\"))\n",
    "            print(\"Enter 1 to identify the Name of the Patient\\nEnter 2 to identify the date of the report\\n Enter 3 to identify the Email id of the technician\\nEnter 4 to identify the Name of the Doctor\\nEnter 5 to identify the Age of the Patient\\nEnter 6 to identify the Age of the patient\\nEnter 7 to identify Website if any\\nEnter 8 to identify Replace the domain from .com to .in\")\n",
    "            if ch ==1:\n",
    "                try:\n",
    "                    patient_names = re.findall(r\"Name of the Patient: (.+)\", content)\n",
    "                    for name in patient_names:\n",
    "                        print(name)\n",
    "                except NameError:\n",
    "                    print(\"Can't find the name with respect to the pattern entered\")\n",
    "            elif ch == 2:\n",
    "                report_dates = re.findall(r\"Date of report: (.+)\", content)\n",
    "                for date in report_dates:\n",
    "                    print(date)\n",
    "            elif ch ==3:\n",
    "                lab_technician_emails = re.findall(r\"Email id of the lab technician: (\\S+)\", content)\n",
    "                for email in lab_technician_emails:\n",
    "                    print(email)\n",
    "            elif ch ==4:\n",
    "                doctor_names = re.findall(r\"Name of the Doctor: (Dr\\. .+)\", content)\n",
    "                for doctor in doctor_names:\n",
    "                    print(doctor)\n",
    "            elif ch ==5:\n",
    "                try:\n",
    "                    patient_ages = re.findall(r\"Age of the patient: (\\d+)\", content)\n",
    "                    if not patient_ages:\n",
    "                        raise NoPatientAgesFoundException(\"No patient ages found in the content.\")\n",
    "                    \n",
    "                    print(\"The age of the patients are:\")\n",
    "                    for age in patient_ages:\n",
    "                        print(age)\n",
    "                except NoPatientAgesFoundException as e:\n",
    "                    print(e)\n",
    "            elif ch ==6:\n",
    "                websites = re.findall(r\"Website if any: (www\\.\\S+)?\", content) # add all the white space chatracter after this\n",
    "                for website in websites:\n",
    "                    print(website)\n",
    "            elif ch ==7:\n",
    "                updated_data = re.sub(r\"(www\\.\\S+)\\.com\", r\"\\1.in\", content) #\\1: This is a special reference to the first capturing group (the part in parentheses) in the original pattern. In this case, it refers to the captured website URL without the \".com\" part. and add .in\n",
    "                print(updated_data)\n",
    "            else:\n",
    "                print(\"Enter a valid input\")\n",
    "print(\"Welcome to Women and Child Development Department Health Record Automation\")\n",
    "path = input(\"Enter the path of the file: \")\n",
    "try:\n",
    "    with open(path,'r') as file:\n",
    "        content = file.read()\n",
    "    print(content)\n",
    "except FileNotFoundError:\n",
    "    print(\"The file 'maternity.txt' was not found.\")\n",
    "data = Automate(content)"
   ]
  }
 ],
 "metadata": {
  "kernelspec": {
   "display_name": "Python 3",
   "language": "python",
   "name": "python3"
  },
  "language_info": {
   "codemirror_mode": {
    "name": "ipython",
    "version": 3
   },
   "file_extension": ".py",
   "mimetype": "text/x-python",
   "name": "python",
   "nbconvert_exporter": "python",
   "pygments_lexer": "ipython3",
   "version": "3.11.4"
  },
  "orig_nbformat": 4
 },
 "nbformat": 4,
 "nbformat_minor": 2
}
